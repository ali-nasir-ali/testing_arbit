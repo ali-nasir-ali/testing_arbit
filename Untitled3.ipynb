{
  "nbformat": 4,
  "nbformat_minor": 0,
  "metadata": {
    "colab": {
      "name": "Untitled3.ipynb",
      "provenance": [],
      "authorship_tag": "ABX9TyNaKXFUGuBsji7S0dJPLyna",
      "include_colab_link": true
    },
    "kernelspec": {
      "name": "python3",
      "display_name": "Python 3"
    },
    "language_info": {
      "name": "python"
    }
  },
  "cells": [
    {
      "cell_type": "markdown",
      "metadata": {
        "id": "view-in-github",
        "colab_type": "text"
      },
      "source": [
        "<a href=\"https://colab.research.google.com/github/anasir514/testing_arbit/blob/main/Untitled3.ipynb\" target=\"_parent\"><img src=\"https://colab.research.google.com/assets/colab-badge.svg\" alt=\"Open In Colab\"/></a>"
      ]
    },
    {
      "cell_type": "code",
      "metadata": {
        "colab": {
          "base_uri": "https://localhost:8080/"
        },
        "id": "s5adzVS7G8gR",
        "outputId": "55abc875-e79d-4a3a-b9b3-8829b7dce086"
      },
      "source": [
        "import requests\n",
        "url = 'https://rest.coinapi.io/v1/exchanges/{OKCOIN_CNY}'\n",
        "#headers = {'X-CoinAPI-Key' : '3BFA0F2E-078D-4F26-ACB5-19B2E30D2764'}\n",
        "headers = {\n",
        "  \"X-CoinAPI-Key\" : \"3BFA0F2E-078D-4F26-ACB5-19B2E30D2764\",\n",
        "  \"type\": \"trade\",\n",
        "  \"symbol_id\": \"BITSTAMP_SPOT_BTC_USD\"\n",
        "}\n",
        "response = requests.get(url, headers=headers)\n",
        "print(response)\n"
      ],
      "execution_count": 13,
      "outputs": [
        {
          "output_type": "stream",
          "text": [
            "<Response [200]>\n"
          ],
          "name": "stdout"
        }
      ]
    },
    {
      "cell_type": "code",
      "metadata": {
        "colab": {
          "base_uri": "https://localhost:8080/",
          "height": 212
        },
        "id": "EIs4yoFnKg5A",
        "outputId": "af26672e-ce9e-474e-a65a-90704b705e1a"
      },
      "source": [
        "pip install websocket-client"
      ],
      "execution_count": 18,
      "outputs": [
        {
          "output_type": "stream",
          "text": [
            "Collecting websocket-client\n",
            "\u001b[?25l  Downloading https://files.pythonhosted.org/packages/ca/5f/3c211d168b2e9f9342cfb53bcfc26aab0eac63b998015e7af7bcae66119d/websocket_client-1.1.0-py2.py3-none-any.whl (68kB)\n",
            "\r\u001b[K     |████▊                           | 10kB 12.6MB/s eta 0:00:01\r\u001b[K     |█████████▌                      | 20kB 18.3MB/s eta 0:00:01\r\u001b[K     |██████████████▎                 | 30kB 21.8MB/s eta 0:00:01\r\u001b[K     |███████████████████             | 40kB 16.9MB/s eta 0:00:01\r\u001b[K     |███████████████████████▉        | 51kB 10.0MB/s eta 0:00:01\r\u001b[K     |████████████████████████████▋   | 61kB 10.2MB/s eta 0:00:01\r\u001b[K     |████████████████████████████████| 71kB 4.7MB/s \n",
            "\u001b[?25hInstalling collected packages: websocket-client\n",
            "Successfully installed websocket-client-1.1.0\n"
          ],
          "name": "stdout"
        },
        {
          "output_type": "display_data",
          "data": {
            "application/vnd.colab-display-data+json": {
              "pip_warning": {
                "packages": [
                  "websocket"
                ]
              }
            }
          },
          "metadata": {
            "tags": []
          }
        }
      ]
    },
    {
      "cell_type": "code",
      "metadata": {
        "colab": {
          "base_uri": "https://localhost:8080/",
          "height": 376
        },
        "id": "J8zeBO_SKWIh",
        "outputId": "c2da558c-bae4-4390-8dc0-4b77b08521e7"
      },
      "source": [
        "from websocket import create_connection\n",
        "import json\n",
        "\n",
        "test_key = '3BFA0F2E-078D-4F26-ACB5-19B2E30D2764'\n",
        "\n",
        "class CoinAPIv1_subscribe(object):\n",
        "  def __init__(self, apikey):\n",
        "    self.type = \"hello\"\n",
        "    self.apikey = apikey\n",
        "    self.heartbeat = True\n",
        "    self.subscribe_data_type = [\"trade\", \"quote\", \"book20\"]\n",
        "\n",
        "ws = create_connection(\"wss://ws.coinapi.io/v1\")\n",
        "sub = CoinAPIv1_subscribe(test_key)\n",
        "ws.send(json.dumps(sub.__dict__))\n",
        "while True:\n",
        "  msg =  ws.recv()\n",
        "  print(msg)\n",
        "  \n",
        "ws.close()"
      ],
      "execution_count": 17,
      "outputs": [
        {
          "output_type": "error",
          "ename": "ImportError",
          "evalue": "ignored",
          "traceback": [
            "\u001b[0;31m---------------------------------------------------------------------------\u001b[0m",
            "\u001b[0;31mImportError\u001b[0m                               Traceback (most recent call last)",
            "\u001b[0;32m<ipython-input-17-f37c0e20b4b7>\u001b[0m in \u001b[0;36m<module>\u001b[0;34m()\u001b[0m\n\u001b[0;32m----> 1\u001b[0;31m \u001b[0;32mfrom\u001b[0m \u001b[0mwebsocket\u001b[0m \u001b[0;32mimport\u001b[0m \u001b[0mcreate_connection\u001b[0m\u001b[0;34m\u001b[0m\u001b[0;34m\u001b[0m\u001b[0m\n\u001b[0m\u001b[1;32m      2\u001b[0m \u001b[0;32mimport\u001b[0m \u001b[0mjson\u001b[0m\u001b[0;34m\u001b[0m\u001b[0;34m\u001b[0m\u001b[0m\n\u001b[1;32m      3\u001b[0m \u001b[0;34m\u001b[0m\u001b[0m\n\u001b[1;32m      4\u001b[0m \u001b[0mtest_key\u001b[0m \u001b[0;34m=\u001b[0m \u001b[0;34m'3BFA0F2E-078D-4F26-ACB5-19B2E30D2764'\u001b[0m\u001b[0;34m\u001b[0m\u001b[0;34m\u001b[0m\u001b[0m\n\u001b[1;32m      5\u001b[0m \u001b[0;34m\u001b[0m\u001b[0m\n",
            "\u001b[0;31mImportError\u001b[0m: cannot import name 'create_connection' from 'websocket' (/usr/local/lib/python3.7/dist-packages/websocket/__init__.py)",
            "",
            "\u001b[0;31m---------------------------------------------------------------------------\u001b[0;32m\nNOTE: If your import is failing due to a missing package, you can\nmanually install dependencies using either !pip or !apt.\n\nTo view examples of installing some common dependencies, click the\n\"Open Examples\" button below.\n\u001b[0;31m---------------------------------------------------------------------------\u001b[0m\n"
          ]
        }
      ]
    }
  ]
}