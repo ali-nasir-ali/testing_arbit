{
  "nbformat": 4,
  "nbformat_minor": 0,
  "metadata": {
    "colab": {
      "name": "Untitled5.ipynb",
      "provenance": [],
      "authorship_tag": "ABX9TyPKJq6uYPofno5NQ/hu9F3J",
      "include_colab_link": true
    },
    "kernelspec": {
      "name": "python3",
      "display_name": "Python 3"
    },
    "language_info": {
      "name": "python"
    }
  },
  "cells": [
    {
      "cell_type": "markdown",
      "metadata": {
        "id": "view-in-github",
        "colab_type": "text"
      },
      "source": [
        "<a href=\"https://colab.research.google.com/github/anasir514/testing_arbit/blob/main/Untitled66.ipynb\" target=\"_parent\"><img src=\"https://colab.research.google.com/assets/colab-badge.svg\" alt=\"Open In Colab\"/></a>"
      ]
    },
    {
      "cell_type": "code",
      "metadata": {
        "colab": {
          "base_uri": "https://localhost:8080/"
        },
        "id": "bUv3hRC0ggqM",
        "outputId": "1a5a6424-ca1b-4314-877f-ccbc67779751"
      },
      "source": [
        "\n",
        "If you want the prices in a given fiat or stable coin, you have to query the /v1/bitcoin/:currency \n",
        "endpoint to multiply the prices by the fiat last price.\n",
        "\n"
      ],
      "execution_count": 19,
      "outputs": [
        {
          "output_type": "stream",
          "text": [
            "Time: {'time': '2021-06-25T14:23:35.0000000Z', 'asset_id_base': 'BTC', 'asset_id_quote': 'USD', 'rate': 33292.176228334894, 'src_side_base': [{'time': '2021-06-25T14:23:35.0000000Z', 'asset': 'LINK', 'rate': 33281.17373861199, 'volume': 14452408.115041934}, {'time': '2021-06-25T14:23:35.0000000Z', 'asset': 'SUSHI', 'rate': 33273.3205991168, 'volume': 5524523.492257471}, {'time': '2021-06-25T14:23:35.0000000Z', 'asset': 'USD', 'rate': 33292.458428642785, 'volume': 1242160378.3111303}, {'time': '2021-06-25T14:23:35.0000000Z', 'asset': 'BCH', 'rate': 33284.252833400045, 'volume': 11025223.858438382}]}\n",
            "Time: 2021-06-25T14:23:35.0000000Z\n",
            "Base: BTC\n",
            "Quote: USD\n",
            "Rate: 33292.176228334894\n"
          ],
          "name": "stdout"
        }
      ]
    },
    {
      "cell_type": "code",
      "metadata": {
        "colab": {
          "base_uri": "https://localhost:8080/"
        },
        "id": "npqxrpkhqQ4g",
        "outputId": "1016e6ea-dc4c-4b1a-ecfe-56d1d4b45860"
      },
      "source": [
        "\n",
        "\n",
        "\n",
        "\n",
        "\n",
        "import requests\n",
        "url = 'https://api.tradifull.com/v1/currencies/top'\n",
        "#headers = {'X-CoinAPI-Key' : '3BFA0F2E-078D-4F26-ACB5-19B2E30D2764'}\n",
        "#headers = {\n",
        "#  \"X-CoinAPI-Key\" : \"3BFA0F2E-078D-4F26-ACB5-19B2E30D2764\",\n",
        "#  \"type\": \"trade\",\n",
        "#  \"symbol_id\": \"BITSTAMP_SPOT_BTC_USD\"\n",
        "#}\n",
        "#response = requests.get(url, headers=headers)\n",
        "response = requests.get(url)\n",
        "\n",
        "a = response.json()\n",
        "print(a) \n",
        "\n",
        "#print(response.headers)\n",
        "\n",
        "for aa in a:\n",
        "  print(\"code \" , aa['code'])\n",
        "  print(\"code \" , aa['last'])\n",
        "  print(\"------------------------------------------ \")\n",
        "#b'[{\"code\":\"USDT\",\"name\":\"Tether\",\"last\":\"2.1867103552855363\",\"high\":\"2.3914926264420884\",\"low\":\"1.6292221452028728\",\"volume\":\""
      ],
      "execution_count": 39,
      "outputs": [
        {
          "output_type": "stream",
          "text": [
            "[{'code': 'USDT', 'name': 'Tether', 'last': '1.7720670530943508', 'high': '2.391492779688525', 'low': '1.6292221452028728', 'volume': '63076977485'}, {'code': 'BTC', 'name': 'Bitcoin', 'last': '1', 'high': '1', 'low': '1', 'volume': '3067575'}, {'code': 'SUN', 'name': 'SUN', 'last': '0.00017809920000000002', 'high': '0.000184635', 'low': '0.0001665825', 'volume': '596551'}, {'code': 'TCT', 'name': 'TCT', 'last': '0.000000633', 'high': '0.0000007425', 'low': '0.0000006210000000000001', 'volume': '383870'}, {'code': 'ETH', 'name': 'Ethereum', 'last': '0.05559224954545456', 'high': '0.059940058181818176', 'low': '0.05547960954545455', 'volume': '303791'}, {'code': 'DOGE', 'name': 'Dogecoin', 'last': '0.0000073044653846153854', 'high': '0.000007664269999999998', 'low': '0.000006608205384615385', 'volume': '173889'}, {'code': 'BUSD', 'name': 'BUSD', 'last': '0.000030202508825901416', 'high': '0.000030412599144848578', 'low': '0.000028316339506557533', 'volume': '113727'}, {'code': 'ADA', 'name': 'Cardano', 'last': '0.00003924038461538461', 'high': '0.00004115161538461538', 'low': '0.000038691076923076916', 'volume': '70281'}, {'code': 'XRP', 'name': 'Ripple', 'last': '0.00001856931325714776', 'high': '0.000019165537149477682', 'low': '0.000017978161706338664', 'volume': '60917'}, {'code': 'BNB', 'name': 'BNB', 'last': '0.00885083965538954', 'high': '0.009206553922750087', 'low': '0.00855567602032389', 'volume': '48697'}]\n",
            "code  USDT\n",
            "code  1.7720670530943508\n",
            "------------------------------------------ \n",
            "code  BTC\n",
            "code  1\n",
            "------------------------------------------ \n",
            "code  SUN\n",
            "code  0.00017809920000000002\n",
            "------------------------------------------ \n",
            "code  TCT\n",
            "code  0.000000633\n",
            "------------------------------------------ \n",
            "code  ETH\n",
            "code  0.05559224954545456\n",
            "------------------------------------------ \n",
            "code  DOGE\n",
            "code  0.0000073044653846153854\n",
            "------------------------------------------ \n",
            "code  BUSD\n",
            "code  0.000030202508825901416\n",
            "------------------------------------------ \n",
            "code  ADA\n",
            "code  0.00003924038461538461\n",
            "------------------------------------------ \n",
            "code  XRP\n",
            "code  0.00001856931325714776\n",
            "------------------------------------------ \n",
            "code  BNB\n",
            "code  0.00885083965538954\n",
            "------------------------------------------ \n"
          ],
          "name": "stdout"
        }
      ]
    },
    {
      "cell_type": "code",
      "metadata": {
        "id": "s-E_IT86xhmV",
        "outputId": "ee2086f2-7966-4443-9026-13959380d216",
        "colab": {
          "base_uri": "https://localhost:8080/"
        }
      },
      "source": [
        "import requests\n",
        "\n",
        "# Search GitHub's repositories for requests\n",
        "response = requests.get(\n",
        "    'https://api.github.com/search/repositories',\n",
        "    params={'q': 'requests+language:python'},\n",
        ")\n",
        "\n",
        "# Inspect some attributes of the `requests` repository\n",
        "json_response = response.json()\n",
        "repository = json_response['items'][0]\n",
        "print(f'Repository name: {repository[\"name\"]}')  # Python 3.6+\n",
        "print(f'Repository description: {repository[\"description\"]}')  # Python 3.6+\n"
      ],
      "execution_count": 40,
      "outputs": [
        {
          "output_type": "stream",
          "text": [
            "Repository name: grequests\n",
            "Repository description: Requests + Gevent = <3\n"
          ],
          "name": "stdout"
        }
      ]
    }
  ]
}