{
  "nbformat": 4,
  "nbformat_minor": 0,
  "metadata": {
    "colab": {
      "name": "Untitled5.ipynb",
      "provenance": [],
      "authorship_tag": "ABX9TyP8pAdhlaDqNCUOSZHKieqF",
      "include_colab_link": true
    },
    "kernelspec": {
      "name": "python3",
      "display_name": "Python 3"
    },
    "language_info": {
      "name": "python"
    }
  },
  "cells": [
    {
      "cell_type": "markdown",
      "metadata": {
        "id": "view-in-github",
        "colab_type": "text"
      },
      "source": [
        "<a href=\"https://colab.research.google.com/github/anasir514/testing_arbit/blob/main/Untitled5.ipynb\" target=\"_parent\"><img src=\"https://colab.research.google.com/assets/colab-badge.svg\" alt=\"Open In Colab\"/></a>"
      ]
    },
    {
      "cell_type": "code",
      "metadata": {
        "colab": {
          "base_uri": "https://localhost:8080/"
        },
        "id": "bUv3hRC0ggqM",
        "outputId": "1a5a6424-ca1b-4314-877f-ccbc67779751"
      },
      "source": [
        "\n",
        "If you want the prices in a given fiat or stable coin, you have to query the /v1/bitcoin/:currency \n",
        "endpoint to multiply the prices by the fiat last price.\n",
        "\n"
      ],
      "execution_count": 19,
      "outputs": [
        {
          "output_type": "stream",
          "text": [
            "Time: {'time': '2021-06-25T14:23:35.0000000Z', 'asset_id_base': 'BTC', 'asset_id_quote': 'USD', 'rate': 33292.176228334894, 'src_side_base': [{'time': '2021-06-25T14:23:35.0000000Z', 'asset': 'LINK', 'rate': 33281.17373861199, 'volume': 14452408.115041934}, {'time': '2021-06-25T14:23:35.0000000Z', 'asset': 'SUSHI', 'rate': 33273.3205991168, 'volume': 5524523.492257471}, {'time': '2021-06-25T14:23:35.0000000Z', 'asset': 'USD', 'rate': 33292.458428642785, 'volume': 1242160378.3111303}, {'time': '2021-06-25T14:23:35.0000000Z', 'asset': 'BCH', 'rate': 33284.252833400045, 'volume': 11025223.858438382}]}\n",
            "Time: 2021-06-25T14:23:35.0000000Z\n",
            "Base: BTC\n",
            "Quote: USD\n",
            "Rate: 33292.176228334894\n"
          ],
          "name": "stdout"
        }
      ]
    },
    {
      "cell_type": "code",
      "metadata": {
        "colab": {
          "base_uri": "https://localhost:8080/"
        },
        "id": "npqxrpkhqQ4g",
        "outputId": "2891aac7-4faa-4806-8af2-e6a961f89937"
      },
      "source": [
        "\n",
        "\n",
        "\n",
        "\n",
        "\n",
        "import requests\n",
        "url = 'https://api.tradifull.com/v1/currencies/top'\n",
        "#headers = {'X-CoinAPI-Key' : '3BFA0F2E-078D-4F26-ACB5-19B2E30D2764'}\n",
        "#headers = {\n",
        "#  \"X-CoinAPI-Key\" : \"3BFA0F2E-078D-4F26-ACB5-19B2E30D2764\",\n",
        "#  \"type\": \"trade\",\n",
        "#  \"symbol_id\": \"BITSTAMP_SPOT_BTC_USD\"\n",
        "#}\n",
        "#response = requests.get(url, headers=headers)\n",
        "response = requests.get(url)\n",
        "\n",
        "#print(response.json()) \n",
        "\n",
        "print(response.headers)\n",
        "\n",
        "#for contents in content:\n",
        "#  print(\"code \" , )\n",
        "#b'[{\"code\":\"USDT\",\"name\":\"Tether\",\"last\":\"2.1867103552855363\",\"high\":\"2.3914926264420884\",\"low\":\"1.6292221452028728\",\"volume\":\""
      ],
      "execution_count": 34,
      "outputs": [
        {
          "output_type": "stream",
          "text": [
            "{'Date': 'Fri, 25 Jun 2021 15:19:13 GMT', 'Content-Type': 'application/json; charset=utf-8', 'Transfer-Encoding': 'chunked', 'Connection': 'keep-alive', 'Access-Control-Allow-Origin': '*', 'Content-Security-Policy': \"default-src 'self';base-uri 'self';block-all-mixed-content;font-src 'self' https: data:;frame-ancestors 'self';img-src 'self' data:;object-src 'none';script-src 'self';script-src-attr 'none';style-src 'self' https: 'unsafe-inline';upgrade-insecure-requests\", 'X-Dns-Prefetch-Control': 'off', 'Expect-Ct': 'max-age=0', 'X-Frame-Options': 'SAMEORIGIN', 'Strict-Transport-Security': 'max-age=15552000; includeSubDomains', 'X-Download-Options': 'noopen', 'X-Content-Type-Options': 'nosniff', 'X-Permitted-Cross-Domain-Policies': 'none', 'Referrer-Policy': 'no-referrer', 'X-Xss-Protection': '0', 'Etag': 'W/\"517-ZR2Fgnj9PeysCff/PqCcmSmFKoo\"', 'Via': '1.1 vegur', 'CF-Cache-Status': 'DYNAMIC', 'cf-request-id': '0ae559fc600000184708bcc000000001', 'Report-To': '{\"endpoints\":[{\"url\":\"https:\\\\/\\\\/a.nel.cloudflare.com\\\\/report\\\\/v2?s=KLeKSlNAEzkl9rzggaNzGcsuDvNmjecTwE399vbHE5D8HodXjx2zD8TPWZLdN5PaQi%2BwApLZ3fI3VZDxsSpumpOk%2BekmM3DewgViv03t9S%2BYRhpfTA9gQRgmixmsgtI%3D\"}],\"group\":\"cf-nel\",\"max_age\":604800}', 'NEL': '{\"report_to\":\"cf-nel\",\"max_age\":604800}', 'Server': 'cloudflare', 'CF-RAY': '664f2c409b341847-ATL', 'Content-Encoding': 'gzip', 'alt-svc': 'h3-27=\":443\"; ma=86400, h3-28=\":443\"; ma=86400, h3-29=\":443\"; ma=86400, h3=\":443\"; ma=86400'}\n"
          ],
          "name": "stdout"
        }
      ]
    }
  ]
}